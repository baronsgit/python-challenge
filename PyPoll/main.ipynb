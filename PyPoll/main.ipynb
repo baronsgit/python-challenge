{
 "cells": [
  {
   "cell_type": "code",
   "execution_count": null,
   "metadata": {},
   "outputs": [],
   "source": [
    "import os\n",
    "import csv\n"
   ]
  },
  {
   "cell_type": "code",
   "execution_count": null,
   "metadata": {},
   "outputs": [],
   "source": [
    "curDir = os.path.dirname(os.path.realpath(\"__file__\"))\n",
    "election_csv = os.path.join(curDir,'Resources','election_data.csv')"
   ]
  },
  {
   "cell_type": "code",
   "execution_count": null,
   "metadata": {},
   "outputs": [],
   "source": [
    "def addVote(ballot,county,candidate,candidates):\n",
    "    if not candidate in candidates:\n",
    "        candidates[candidate]=[(ballot)]\n",
    "    else:\n",
    "        candidates[candidate].append((ballot))\n",
    "\n",
    "totalVotes=0\n",
    "candidates={}\n",
    "percentageWon=[]\n",
    "totalWon=[]\n",
    "winner=\"\"\n",
    "lines=[]\n",
    "\n",
    "with open(election_csv) as csvFile:\n",
    "    fileReader=csv.reader(csvFile,delimiter=\",\")\n",
    "\n",
    "    next(csvFile)\n",
    "\n",
    "    for line in csvFile:\n",
    "        lines.append(line)\n",
    "        addVote(line[0],line[1],line[2],candidates)\n",
    "\n",
    "\n",
    "totalVotes=str(len(lines))\n",
    "candidateCount = str(len(candidates))\n",
    "\n",
    "# for cand in candidates.keys:\n",
    "#     print(cand)\n",
    "print(candidateCount)\n",
    "print(totalVotes)"
   ]
  },
  {
   "cell_type": "code",
   "execution_count": null,
   "metadata": {},
   "outputs": [],
   "source": [
    "print(\"Election Results\")\n",
    "print(\"------------------------------\")\n",
    "print(f\"Total Votes: {totalVotes}\")\n",
    "print(\"------------------------------\")\n",
    "for voter in candidates:\n",
    "    print(f\"{voter[0]: voter[1]% (voter[2])}\")\n",
    "print(\"------------------------------\")\n",
    "print(f\"Winner: {winner}\")\n",
    "print(\"------------------------------\")\n"
   ]
  }
 ],
 "metadata": {
  "kernelspec": {
   "display_name": "Python 3",
   "language": "python",
   "name": "python3"
  },
  "language_info": {
   "codemirror_mode": {
    "name": "ipython",
    "version": 3
   },
   "file_extension": ".py",
   "mimetype": "text/x-python",
   "name": "python",
   "nbconvert_exporter": "python",
   "pygments_lexer": "ipython3",
   "version": "3.11.3"
  },
  "orig_nbformat": 4
 },
 "nbformat": 4,
 "nbformat_minor": 2
}
