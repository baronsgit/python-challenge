{
 "cells": [
  {
   "cell_type": "code",
   "execution_count": 2,
   "metadata": {},
   "outputs": [],
   "source": [
    "import os\n",
    "import csv\n"
   ]
  },
  {
   "cell_type": "code",
   "execution_count": 3,
   "metadata": {},
   "outputs": [],
   "source": [
    "curDir = os.path.dirname(os.path.realpath(\"__file__\"))\n",
    "election_csv = os.path.join(curDir,'Resources','election_data.csv')"
   ]
  },
  {
   "cell_type": "code",
   "execution_count": 4,
   "metadata": {},
   "outputs": [
    {
     "name": "stdout",
     "output_type": "stream",
     "text": [
      "Charles Casper Stockham,85213\n",
      "Diana DeGette,272892\n",
      "Raymon Anthony Doane,11606\n",
      "Diana DeGette\n",
      "369711\n"
     ]
    }
   ],
   "source": [
    "def addVote(ballot,county,candidate,candidates):\n",
    "    if not candidate in candidates:\n",
    "        candidates[candidate]=[(ballot)]\n",
    "    else:\n",
    "        candidates[candidate].append((ballot))\n",
    "\n",
    "def getpercentage(partVal, fullVal):\n",
    "    val = 100 * float(partVal)/float(fullVal)\n",
    "    result=\"{:.3f}\".format(val)\n",
    "    return f\"{result}%\"\n",
    "\n",
    "totalVotes=0\n",
    "candidates={}\n",
    "winner=\"\"\n",
    "lines=[]\n",
    "\n",
    "with open(election_csv) as csvFile:\n",
    "    fileReader=csv.reader(csvFile,delimiter=\",\")\n",
    "\n",
    "    next(csvFile)\n",
    "\n",
    "    for line in csv.reader(csvFile, delimiter=\",\"):\n",
    "        lines.append(line)\n",
    "        addVote(line[0],line[1],line[2],candidates)\n",
    "\n",
    "\n",
    "totalVotes=str(len(lines))\n",
    "candidateCount = str(len(candidates))\n",
    "\n",
    "votes=0\n",
    "for cand, ids in candidates.items():\n",
    "    popvotes=len(ids)\n",
    "    if (popvotes>votes):\n",
    "        votes=popvotes\n",
    "        winner=cand\n",
    "#     print(f\"{cand},{len(ids)}\")\n",
    "\n",
    "# print(winner)\n",
    "# print(totalVotes)"
   ]
  },
  {
   "cell_type": "code",
   "execution_count": 6,
   "metadata": {},
   "outputs": [
    {
     "name": "stdout",
     "output_type": "stream",
     "text": [
      "Election Results\n",
      "------------------------------\n",
      "Total Votes: 369711\n",
      "------------------------------\n",
      "Charles Casper Stockham: 23.049% (85213)\n",
      "Diana DeGette: 73.812% (272892)\n",
      "Raymon Anthony Doane: 3.139% (11606)\n",
      "------------------------------\n",
      "Winner: Diana DeGette\n",
      "------------------------------\n"
     ]
    }
   ],
   "source": [
    "print(\"Election Results\")\n",
    "print(\"------------------------------\")\n",
    "print(f\"Total Votes: {totalVotes}\")\n",
    "print(\"------------------------------\")\n",
    "for voter,ids in candidates.items():\n",
    "    pervotes=getpercentage(len(ids),totalVotes)\n",
    "    print(f\"{voter}: {pervotes} ({len(ids)})\")\n",
    "print(\"------------------------------\")\n",
    "print(f\"Winner: {winner}\")\n",
    "print(\"------------------------------\")"
   ]
  }
 ],
 "metadata": {
  "kernelspec": {
   "display_name": "Python 3",
   "language": "python",
   "name": "python3"
  },
  "language_info": {
   "codemirror_mode": {
    "name": "ipython",
    "version": 3
   },
   "file_extension": ".py",
   "mimetype": "text/x-python",
   "name": "python",
   "nbconvert_exporter": "python",
   "pygments_lexer": "ipython3",
   "version": "3.11.3"
  },
  "orig_nbformat": 4
 },
 "nbformat": 4,
 "nbformat_minor": 2
}
