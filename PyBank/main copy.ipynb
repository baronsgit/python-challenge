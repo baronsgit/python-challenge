{
 "cells": [
  {
   "cell_type": "code",
   "execution_count": null,
   "metadata": {},
   "outputs": [],
   "source": [
    "import os\n",
    "import csv\n",
    "import numpy as np\n"
   ]
  },
  {
   "cell_type": "code",
   "execution_count": null,
   "metadata": {},
   "outputs": [],
   "source": [
    "curDir = os.path.dirname(os.path.realpath(\"__file__\"))\n",
    "budget_csv = os.path.join(curDir,'Resources','budget_data.csv') # C:\\Projects\\DataAnalytics\\repos\\python-challenge\\PyBank\\Resources\\budget_data.csv\n",
    "\n",
    "# print(budget_csv)"
   ]
  },
  {
   "cell_type": "code",
   "execution_count": null,
   "metadata": {},
   "outputs": [],
   "source": [
    "monthTotal=0\n",
    "netTotal=0\n",
    "profitInc=\"\"\n",
    "profitIncVal=0\n",
    "profitDec=\"\"\n",
    "profitDecVal=0\n",
    "profitChanges=[]\n",
    "lines=[]\n",
    "previousProfit=0\n",
    "currentProfit=0\n",
    "i=0\n",
    "\n",
    "with open(budget_csv, newline='') as cvs_doc:\n",
    "    fileReader = csv.reader(cvs_doc, delimiter=\",\")\n",
    "    \n",
    "    next(cvs_doc)\n",
    "    # print(f\"First: {fileReader}\")\n",
    "\n",
    "    for line in csv.reader(cvs_doc):\n",
    "        profit=int(line[1])\n",
    "        monthTotal += 1\n",
    "        netTotal += profit\n",
    "\n",
    "        lines.append(line)\n",
    "        profitChange=profit-previousProfit\n",
    "        profitChanges.append(profitChange)\n",
    "        previousProfit=profit\n",
    "\n",
    "        # if (i==0):\n",
    "        #     i+=1\n",
    "        #     continue\n",
    "        \n",
    "        # previousProfit=profitChange[i-1]\n",
    "        # currentProfit=profit\n",
    "        \n",
    "        # diff=0\n",
    "        # if (previousProfit<0 and currentProfit<0) or (previousProfit>0 and currentProfit>0):\n",
    "        #     diff=previousProfit-currentProfit\n",
    "        # elif (previousProfit>0 and currentProfit<0): # pre -388932, cur 982952\n",
    "        #     diff=currentProfit-(-previousProfit)\n",
    "        # else:\n",
    "        #     diff=previousProfit-(-currentProfit)\n",
    "            \n",
    "        # ary=np.array(profitChanges)\n",
    "        # maxDiff=max(np.diff(ary))\n",
    "        # minDiff=min(np.diff(ary))\n",
    "\n",
    "        # if profitIncVal <= maxDiff:\n",
    "        #     profitIncVal=maxDiff\n",
    "        #     profitInc=line[0]\n",
    "\n",
    "        # if profitDecVal >= minDiff:\n",
    "        #     profitDecVal=minDiff\n",
    "        #     profitDec=line[0]\n",
    "\n",
    "        # i += 1\n",
    "\n",
    "profits=(i for p in lines[1])\n",
    "averageChange=\"{:.2f}\".format(sum(profits) / len(profitChanges))\n",
    "profitIncVal=max(profitChanges)\n",
    "profitInc=str(lines[profitChanges.index(profitIncVal)][0])\n",
    "profitDecVal=min(profitChanges)\n",
    "profitDec=str(lines[profitChanges.index(profitDecVal)][0])\n",
    "        \n",
    "# print(str(monthTotal))\n",
    "# print(str(int(netTotal)))\n",
    "# print(aveChange)\n",
    "# a = np.array(profitChanges)\n",
    "# # val=max(np.diff(a))\n",
    "# # print(str(val))\n",
    "# # print(str((np.diff(a).argmax())))\n",
    "# averageChange = \"{:.2f}\".format(sum(np.diff(a)) / len(np.diff(a)))  # sum(aveChange) / len(aveChange) # \"{:.2f}\".format((netTotal/monthTotal))\n",
    "\n",
    "print(str(averageChange))\n"
   ]
  },
  {
   "cell_type": "code",
   "execution_count": null,
   "metadata": {},
   "outputs": [],
   "source": [
    "print(\"Financial Analysis\")\n",
    "print(\"------------------------------\")\n",
    "print(f\"Total Months: {str(monthTotal)}\")\n",
    "print(f\"Total: ${str(netTotal)}\")\n",
    "print(f\"Average Change: ${str(averageChange)}\")\n",
    "print(f\"Greatest Increase in Profits: {profitInc} (${str(profitIncVal)})\")\n",
    "print(f\"Greatest Decrease in Profits: {profitDec} (${str(profitDecVal)})\")"
   ]
  }
 ],
 "metadata": {
  "kernelspec": {
   "display_name": "Python 3",
   "language": "python",
   "name": "python3"
  },
  "language_info": {
   "codemirror_mode": {
    "name": "ipython",
    "version": 3
   },
   "file_extension": ".py",
   "mimetype": "text/x-python",
   "name": "python",
   "nbconvert_exporter": "python",
   "pygments_lexer": "ipython3",
   "version": "3.11.3"
  },
  "orig_nbformat": 4
 },
 "nbformat": 4,
 "nbformat_minor": 2
}
