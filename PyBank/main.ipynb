{
 "cells": [
  {
   "cell_type": "code",
   "execution_count": 40,
   "metadata": {},
   "outputs": [],
   "source": [
    "import os\n",
    "import csv\n",
    "import numpy as np\n"
   ]
  },
  {
   "cell_type": "code",
   "execution_count": 42,
   "metadata": {},
   "outputs": [
    {
     "name": "stdout",
     "output_type": "stream",
     "text": [
      "C:\\Projects\\DataAnalytics\\repos\\python-challenge\\PyBank\n"
     ]
    }
   ],
   "source": [
    "curDir = os.path.dirname(os.path.realpath(\"__file__\"))\n",
    "print(curDir)\n",
    "budget_csv = os.path.join(curDir,'Resources','budget_data.csv') "
   ]
  },
  {
   "cell_type": "code",
   "execution_count": null,
   "metadata": {},
   "outputs": [],
   "source": [
    "monthTotal=0\n",
    "netTotal=0\n",
    "profitInc=\"\"\n",
    "profitIncVal=0\n",
    "profitDec=\"\"\n",
    "profitDecVal=0\n",
    "profitChanges=[]\n",
    "lines=[]\n",
    "previousProfit=0\n",
    "\n",
    "with open(budget_csv) as cvs_doc:\n",
    "    fileReader=csv.reader(cvs_doc, delimiter=\",\")\n",
    "    \n",
    "    fileReader=next(cvs_doc)\n",
    " \n",
    "    for line in csv.reader(cvs_doc):\n",
    "        profit=int(line[1])\n",
    "        monthTotal += 1\n",
    "        netTotal += profit\n",
    "\n",
    "        lines.append(line)\n",
    "        profitChange=profit-previousProfit\n",
    "        profitChanges.append(profitChange)\n",
    "        previousProfit=profit\n",
    "\n",
    "profitIncVal=max(profitChanges)\n",
    "profitInc=str(lines[profitChanges.index(profitIncVal)][0])\n",
    "profitDecVal=min(profitChanges)\n",
    "profitDec=str(lines[profitChanges.index(profitDecVal)][0])\n",
    "\n",
    "profits = [int(x[1]) for x in lines]\n",
    "\n",
    "a = np.array(profits)\n",
    "\n",
    "averageChange = \"{:.2f}\".format(sum(np.diff(a)) / len(np.diff(a))) \n",
    "\n",
    "print(str(averageChange))\n"
   ]
  },
  {
   "cell_type": "code",
   "execution_count": null,
   "metadata": {},
   "outputs": [],
   "source": [
    "print(\"Financial Analysis\")\n",
    "print(\"------------------------------\")\n",
    "print(f\"Total Months: {str(monthTotal)}\")\n",
    "print(f\"Total: ${str(netTotal)}\")\n",
    "print(f\"Average Change: ${str(averageChange)}\")\n",
    "print(f\"Greatest Increase in Profits: {profitInc} (${str(profitIncVal)})\")\n",
    "print(f\"Greatest Decrease in Profits: {profitDec} (${str(profitDecVal)})\")"
   ]
  },
  {
   "cell_type": "code",
   "execution_count": null,
   "metadata": {},
   "outputs": [],
   "source": [
    "# output the results to a text file\n",
    "with open(\"pybank_results.txt\",\"w\") as outputFile:\n",
    "    outputFile.write(\"Financial Analysis\\n\")\n",
    "    outputFile.write(\"------------------------------\\n\")\n",
    "    outputFile.write(f\"Total Months: {str(monthTotal)}\\n\")\n",
    "    outputFile.write(f\"Total: ${str(netTotal)}\\n\")\n",
    "    outputFile.write(f\"Average Change: ${str(averageChange)}\\n\")\n",
    "    outputFile.write(f\"Greatest Increase in Profits: {profitInc} (${str(profitIncVal)})\\n\")\n",
    "    outputFile.write(f\"Greatest Decrease in Profits: {profitDec} (${str(profitDecVal)})\\n\")\n",
    "\n",
    "outputFile.close()\n"
   ]
  }
 ],
 "metadata": {
  "kernelspec": {
   "display_name": "Python 3",
   "language": "python",
   "name": "python3"
  },
  "language_info": {
   "codemirror_mode": {
    "name": "ipython",
    "version": 3
   },
   "file_extension": ".py",
   "mimetype": "text/x-python",
   "name": "python",
   "nbconvert_exporter": "python",
   "pygments_lexer": "ipython3",
   "version": "3.11.3"
  },
  "orig_nbformat": 4
 },
 "nbformat": 4,
 "nbformat_minor": 2
}
