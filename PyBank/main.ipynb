{
 "cells": [
  {
   "cell_type": "code",
   "execution_count": 19,
   "metadata": {},
   "outputs": [],
   "source": [
    "import os\n",
    "import csv\n",
    "import numpy as np\n"
   ]
  },
  {
   "cell_type": "code",
   "execution_count": 20,
   "metadata": {},
   "outputs": [],
   "source": [
    "curDir = os.path.dirname(os.path.realpath(\"__file__\"))\n",
    "budget_csv = os.path.join(curDir,'Resources','budget_data.csv') # C:\\Projects\\DataAnalytics\\repos\\python-challenge\\PyBank\\Resources\\budget_data.csv\n",
    "\n",
    "# print(budget_csv)"
   ]
  },
  {
   "cell_type": "code",
   "execution_count": 25,
   "metadata": {},
   "outputs": [
    {
     "ename": "UFuncTypeError",
     "evalue": "ufunc 'subtract' did not contain a loop with signature matching types (dtype('<U8'), dtype('<U8')) -> None",
     "output_type": "error",
     "traceback": [
      "\u001b[1;31m---------------------------------------------------------------------------\u001b[0m",
      "\u001b[1;31mUFuncTypeError\u001b[0m                            Traceback (most recent call last)",
      "Cell \u001b[1;32mIn[25], line 38\u001b[0m\n\u001b[0;32m     34\u001b[0m \u001b[39m# for p in lines:\u001b[39;00m\n\u001b[0;32m     35\u001b[0m \u001b[39m#     profits.append(int(p[1]))\u001b[39;00m\n\u001b[0;32m     36\u001b[0m a \u001b[39m=\u001b[39m np\u001b[39m.\u001b[39marray(profits)\n\u001b[1;32m---> 38\u001b[0m averageChange \u001b[39m=\u001b[39m \u001b[39m\"\u001b[39m\u001b[39m{:.2f}\u001b[39;00m\u001b[39m\"\u001b[39m\u001b[39m.\u001b[39mformat(\u001b[39msum\u001b[39m(np\u001b[39m.\u001b[39;49mdiff(a)) \u001b[39m/\u001b[39m \u001b[39mlen\u001b[39m(np\u001b[39m.\u001b[39mdiff(a))) \n\u001b[0;32m     40\u001b[0m \u001b[39mprint\u001b[39m(\u001b[39mstr\u001b[39m(averageChange))\n",
      "File \u001b[1;32m<__array_function__ internals>:200\u001b[0m, in \u001b[0;36mdiff\u001b[1;34m(*args, **kwargs)\u001b[0m\n",
      "File \u001b[1;32mc:\\Users\\baron_esa31t4\\AppData\\Local\\Programs\\Python\\Python311\\Lib\\site-packages\\numpy\\lib\\function_base.py:1448\u001b[0m, in \u001b[0;36mdiff\u001b[1;34m(a, n, axis, prepend, append)\u001b[0m\n\u001b[0;32m   1446\u001b[0m op \u001b[39m=\u001b[39m not_equal \u001b[39mif\u001b[39;00m a\u001b[39m.\u001b[39mdtype \u001b[39m==\u001b[39m np\u001b[39m.\u001b[39mbool_ \u001b[39melse\u001b[39;00m subtract\n\u001b[0;32m   1447\u001b[0m \u001b[39mfor\u001b[39;00m _ \u001b[39min\u001b[39;00m \u001b[39mrange\u001b[39m(n):\n\u001b[1;32m-> 1448\u001b[0m     a \u001b[39m=\u001b[39m op(a[slice1], a[slice2])\n\u001b[0;32m   1450\u001b[0m \u001b[39mreturn\u001b[39;00m a\n",
      "\u001b[1;31mUFuncTypeError\u001b[0m: ufunc 'subtract' did not contain a loop with signature matching types (dtype('<U8'), dtype('<U8')) -> None"
     ]
    }
   ],
   "source": [
    "monthTotal=0\n",
    "netTotal=0\n",
    "profitInc=\"\"\n",
    "profitIncVal=0\n",
    "profitDec=\"\"\n",
    "profitDecVal=0\n",
    "profitChanges=[]\n",
    "lines=[]\n",
    "previousProfit=0\n",
    "\n",
    "with open(budget_csv) as cvs_doc:\n",
    "    fileReader = csv.reader(cvs_doc, delimiter=\",\")\n",
    "    \n",
    "    next(cvs_doc)\n",
    "    # print(f\"First: {fileReader}\")\n",
    "\n",
    "    for line in csv.reader(cvs_doc):\n",
    "        profit=int(line[1])\n",
    "        monthTotal += 1\n",
    "        netTotal += profit\n",
    "\n",
    "        lines.append(line)\n",
    "        profitChange=profit-previousProfit\n",
    "        profitChanges.append(profitChange)\n",
    "        previousProfit=profit\n",
    "\n",
    "profitIncVal=max(profitChanges)\n",
    "profitInc=str(lines[profitChanges.index(profitIncVal)][0])\n",
    "profitDecVal=min(profitChanges)\n",
    "profitDec=str(lines[profitChanges.index(profitDecVal)][0])\n",
    "\n",
    "# profits=[]\n",
    "profits = [x[1] for x in lines]\n",
    "# for p in lines:\n",
    "#     profits.append(int(p[1]))\n",
    "a = np.array(profits)\n",
    "\n",
    "averageChange = \"{:.2f}\".format(sum(np.diff(a)) / len(np.diff(a))) \n",
    "\n",
    "print(str(averageChange))\n"
   ]
  },
  {
   "cell_type": "code",
   "execution_count": 22,
   "metadata": {},
   "outputs": [
    {
     "name": "stdout",
     "output_type": "stream",
     "text": [
      "Financial Analysis\n",
      "------------------------------\n",
      "Total Months: 86\n",
      "Total: $22564198\n",
      "Average Change: $-8311.11\n",
      "Greatest Increase in Profits: Aug-16 ($1862002)\n",
      "Greatest Decrease in Profits: Feb-14 ($-1825558)\n"
     ]
    }
   ],
   "source": [
    "print(\"Financial Analysis\")\n",
    "print(\"------------------------------\")\n",
    "print(f\"Total Months: {str(monthTotal)}\")\n",
    "print(f\"Total: ${str(netTotal)}\")\n",
    "print(f\"Average Change: ${str(averageChange)}\")\n",
    "print(f\"Greatest Increase in Profits: {profitInc} (${str(profitIncVal)})\")\n",
    "print(f\"Greatest Decrease in Profits: {profitDec} (${str(profitDecVal)})\")"
   ]
  }
 ],
 "metadata": {
  "kernelspec": {
   "display_name": "Python 3",
   "language": "python",
   "name": "python3"
  },
  "language_info": {
   "codemirror_mode": {
    "name": "ipython",
    "version": 3
   },
   "file_extension": ".py",
   "mimetype": "text/x-python",
   "name": "python",
   "nbconvert_exporter": "python",
   "pygments_lexer": "ipython3",
   "version": "3.11.3"
  },
  "orig_nbformat": 4
 },
 "nbformat": 4,
 "nbformat_minor": 2
}
