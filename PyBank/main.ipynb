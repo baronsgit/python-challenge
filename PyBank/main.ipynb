{
 "cells": [
  {
   "cell_type": "code",
   "execution_count": 22,
   "metadata": {},
   "outputs": [],
   "source": [
    "import os\n",
    "import csv\n"
   ]
  },
  {
   "cell_type": "code",
   "execution_count": 29,
   "metadata": {},
   "outputs": [],
   "source": [
    "curDir = os.path.dirname(os.path.realpath(\"__file__\"))\n",
    "budget_csv = os.path.join(curDir,'Resources','budget_data.csv') # C:\\Projects\\DataAnalytics\\repos\\python-challenge\\PyBank\\Resources\\budget_data.csv\n",
    "\n",
    "# print(budget_csv)"
   ]
  },
  {
   "cell_type": "code",
   "execution_count": 47,
   "metadata": {},
   "outputs": [
    {
     "name": "stdout",
     "output_type": "stream",
     "text": [
      "86\n",
      "22564198\n",
      "262374.3953488372\n"
     ]
    }
   ],
   "source": [
    "monthTotal=0\n",
    "netTotal=0\n",
    "profitInc=\"\"\n",
    "profitIncVal=0\n",
    "profitDec=\"\"\n",
    "profitDecVal=0\n",
    "aveChange=[]\n",
    "\n",
    "with open(budget_csv) as cvs_doc:\n",
    "    fileReader = csv.reader(cvs_doc, delimiter=\",\")\n",
    "    \n",
    "    fileReader=next(cvs_doc)\n",
    "    # print(f\"First: {fileReader}\")\n",
    "\n",
    "    for line in csv.reader(cvs_doc):\n",
    "        monthTotal += 1\n",
    "        netTotal += int(line[1])\n",
    "        aveChange.append(int(line[1]))\n",
    "\n",
    "        if profitIncVal < netTotal:\n",
    "            profitIncVal += netTotal\n",
    "            profitInc = line[0]\n",
    "\n",
    "        if profitDecVal > netTotal:\n",
    "            profitDecVal += netTotal\n",
    "            profitDec = line[0]\n",
    "        \n",
    "# print(str(monthTotal))\n",
    "# print(str(int(netTotal)))\n",
    "averageChange = sum(aveChange) / len(aveChange) # \"{:.2f}\".format((netTotal/monthTotal))\n",
    "print(str(averageChange))\n"
   ]
  },
  {
   "cell_type": "code",
   "execution_count": 33,
   "metadata": {},
   "outputs": [
    {
     "name": "stdout",
     "output_type": "stream",
     "text": [
      "Financial Analysis\n",
      "------------------------------\n",
      "Total Months: 86\n",
      "Total: $22564198\n",
      "Average Change: $262374.40\n",
      "Greatest Increase in Profits: Sep-15 ($40239746)\n",
      "Greatest Decrease in Profits: Feb-11 ($-879590)\n"
     ]
    }
   ],
   "source": [
    "print(\"Financial Analysis\")\n",
    "print(\"------------------------------\")\n",
    "print(f\"Total Months: {str(monthTotal)}\")\n",
    "print(f\"Total: ${str(netTotal)}\")\n",
    "print(f\"Average Change: ${str(averageChange)}\")\n",
    "print(f\"Greatest Increase in Profits: {profitInc} (${str(profitIncVal)})\")\n",
    "print(f\"Greatest Decrease in Profits: {profitDec} (${str(profitDecVal)})\")"
   ]
  }
 ],
 "metadata": {
  "kernelspec": {
   "display_name": "Python 3",
   "language": "python",
   "name": "python3"
  },
  "language_info": {
   "codemirror_mode": {
    "name": "ipython",
    "version": 3
   },
   "file_extension": ".py",
   "mimetype": "text/x-python",
   "name": "python",
   "nbconvert_exporter": "python",
   "pygments_lexer": "ipython3",
   "version": "3.11.3"
  },
  "orig_nbformat": 4
 },
 "nbformat": 4,
 "nbformat_minor": 2
}
